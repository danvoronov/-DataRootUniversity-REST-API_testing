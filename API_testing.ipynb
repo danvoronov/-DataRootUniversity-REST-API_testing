{
 "cells": [
  {
   "cell_type": "code",
   "execution_count": null,
   "metadata": {},
   "outputs": [],
   "source": [
    "# !pip install pycurl"
   ]
  },
  {
   "cell_type": "markdown",
   "metadata": {},
   "source": [
    "https://github.com/DataRootUniversity/ds-fundamentals/blob/master/docker-flask-project/DOC.md"
   ]
  },
  {
   "cell_type": "code",
   "execution_count": null,
   "metadata": {},
   "outputs": [],
   "source": [
    "import pycurl\n",
    "import json\n",
    "from io import BytesIO\n",
    "from urllib.parse import urlencode"
   ]
  },
  {
   "cell_type": "code",
   "execution_count": null,
   "metadata": {},
   "outputs": [],
   "source": [
    "your_ip_port = '127.0.0.1'+':'+'8000'\n",
    "base_url = 'http://'+your_ip_port+'/api/'"
   ]
  },
  {
   "cell_type": "code",
   "execution_count": null,
   "metadata": {},
   "outputs": [],
   "source": [
    "def t(method, endpoint, data):\n",
    "    b_obj = BytesIO()\n",
    "    crl = pycurl.Curl()\n",
    "    crl.setopt(crl.URL, base_url+endpoint)\n",
    "    crl.setopt(crl.CUSTOMREQUEST, method)\n",
    "    crl.setopt(crl.HTTPHEADER, ['Accept:application/json'])\n",
    "    crl.setopt(crl.WRITEDATA, b_obj)     \n",
    "    crl.setopt(crl.POSTFIELDS, urlencode(data))\n",
    "    crl.perform()\n",
    "    print (\"Status code: %s\" % crl.getinfo(pycurl.HTTP_CODE))\n",
    "    crl.close()\n",
    "\n",
    "    get_body = b_obj.getvalue()\n",
    "    print('Output of '+method+' request:\\n%s' % get_body.decode('utf8'))\n",
    "    return json.loads(get_body)"
   ]
  },
  {
   "cell_type": "code",
   "execution_count": null,
   "metadata": {},
   "outputs": [],
   "source": [
    "t('GET', 'actors', {})"
   ]
  },
  {
   "cell_type": "code",
   "execution_count": null,
   "metadata": {
    "scrolled": true
   },
   "outputs": [],
   "source": [
    "t('GET', 'movies', {})"
   ]
  },
  {
   "cell_type": "markdown",
   "metadata": {},
   "source": [
    "ACTORS"
   ]
  },
  {
   "cell_type": "code",
   "execution_count": null,
   "metadata": {},
   "outputs": [],
   "source": [
    "res = t('POST', 'actor', {\"name\": \"Megan Fox\", \"date_of_birth\": \"01.01.1970\", \"gender\": \"female\"}) \n",
    "actor_id = res[\"id\"]"
   ]
  },
  {
   "cell_type": "code",
   "execution_count": null,
   "metadata": {},
   "outputs": [],
   "source": [
    "actor_id"
   ]
  },
  {
   "cell_type": "code",
   "execution_count": null,
   "metadata": {},
   "outputs": [],
   "source": [
    "t('PUT', 'actor', {\"id\": actor_id, \"name\": \"Megan Fox Fox\"})"
   ]
  },
  {
   "cell_type": "code",
   "execution_count": null,
   "metadata": {},
   "outputs": [],
   "source": [
    "t('GET', 'actor', {\"id\": actor_id})"
   ]
  },
  {
   "cell_type": "code",
   "execution_count": null,
   "metadata": {},
   "outputs": [],
   "source": [
    "t('DELETE', 'actor', {\"id\": actor_id})"
   ]
  },
  {
   "cell_type": "markdown",
   "metadata": {},
   "source": [
    "MOVIES"
   ]
  },
  {
   "cell_type": "code",
   "execution_count": null,
   "metadata": {
    "scrolled": true
   },
   "outputs": [],
   "source": [
    "res = t('POST', 'movie', {\"name\": \"Fight Club\", \"year\": \"1999\", \"genre\": \"drama\"}) \n",
    "movie_id = res[\"id\"]"
   ]
  },
  {
   "cell_type": "code",
   "execution_count": null,
   "metadata": {},
   "outputs": [],
   "source": [
    "movie_id"
   ]
  },
  {
   "cell_type": "code",
   "execution_count": null,
   "metadata": {},
   "outputs": [],
   "source": [
    "t('PUT', 'movie', {\"id\": movie_id, \"name\": \"Fight Club Club\"})"
   ]
  },
  {
   "cell_type": "code",
   "execution_count": null,
   "metadata": {},
   "outputs": [],
   "source": [
    "t('GET', 'movie', {\"id\": movie_id})"
   ]
  },
  {
   "cell_type": "code",
   "execution_count": null,
   "metadata": {},
   "outputs": [],
   "source": [
    "t('DELETE', 'movie', {\"id\": movie_id})"
   ]
  },
  {
   "cell_type": "markdown",
   "metadata": {},
   "source": [
    "relations"
   ]
  },
  {
   "cell_type": "code",
   "execution_count": null,
   "metadata": {},
   "outputs": [],
   "source": [
    "res = t('POST', 'actor', {\"name\": \"Cat Cat\", \"date_of_birth\": \"02.03.1994\", \"gender\": \"cat\"}) \n",
    "actor_id = res[\"id\"]"
   ]
  },
  {
   "cell_type": "code",
   "execution_count": null,
   "metadata": {},
   "outputs": [],
   "source": [
    "res = t('POST', 'movie', {\"name\": \"Tenet\", \"year\": \"2020\", \"genre\": \"nolan\"}) \n",
    "movie_id = res[\"id\"]"
   ]
  },
  {
   "cell_type": "code",
   "execution_count": null,
   "metadata": {},
   "outputs": [],
   "source": [
    "t('PUT', 'actor-relations', {\"id\": actor_id, \"relation_id\": movie_id})"
   ]
  },
  {
   "cell_type": "code",
   "execution_count": null,
   "metadata": {},
   "outputs": [],
   "source": [
    "t('DELETE', 'actor-relations', {\"id\": actor_id})"
   ]
  },
  {
   "cell_type": "code",
   "execution_count": null,
   "metadata": {},
   "outputs": [],
   "source": [
    "t('PUT', 'movie-relations', {\"id\": movie_id, \"relation_id\": actor_id})"
   ]
  },
  {
   "cell_type": "code",
   "execution_count": null,
   "metadata": {},
   "outputs": [],
   "source": [
    "t('DELETE', 'movie-relations', {\"id\": movie_id})"
   ]
  },
  {
   "cell_type": "markdown",
   "metadata": {},
   "source": [
    "__bad request__  with 400 response status code"
   ]
  },
  {
   "cell_type": "code",
   "execution_count": null,
   "metadata": {},
   "outputs": [],
   "source": [
    "t('POST', 'actor', {\"name\": \"Megan Fox\", \"date_of_birth\": \"02.20.1970\", \"gender\": \"female\"}) \n",
    "# Wrong date format (20th month specified)"
   ]
  },
  {
   "cell_type": "code",
   "execution_count": null,
   "metadata": {},
   "outputs": [],
   "source": [
    "t('POST', 'actor', {\"name\": \"Megan Fox\", \"date_of_birth\": \"02.20.1970\", \"gender\": \"female\", \"height\": \"180\"}) \n",
    "# Wrong input field (\"height\")"
   ]
  },
  {
   "cell_type": "code",
   "execution_count": null,
   "metadata": {},
   "outputs": [],
   "source": [
    "t('POST', 'movie', {\"name\": \"Fight Club\", \"year\": \"1999\", \"genre\": \"drama\", \"length\": \"120\"})\n",
    "# Wrong input field (\"length\")"
   ]
  },
  {
   "cell_type": "code",
   "execution_count": null,
   "metadata": {},
   "outputs": [],
   "source": [
    "t('POST', 'movie', {\"name\": \"Fight Club\", \"year\": 2222, \"genre\": \"drama\"})\n",
    "# Wrong year format"
   ]
  },
  {
   "cell_type": "code",
   "execution_count": null,
   "metadata": {},
   "outputs": [],
   "source": [
    "t('GET', 'actor', {\"id\": 180})\n",
    "# Such \"id\" doesn't exist"
   ]
  },
  {
   "cell_type": "code",
   "execution_count": null,
   "metadata": {},
   "outputs": [],
   "source": [
    "t('GET', 'movie', {\"id\": 180})\n",
    "# Such \"id\" doesn't exist"
   ]
  },
  {
   "cell_type": "code",
   "execution_count": null,
   "metadata": {},
   "outputs": [],
   "source": [
    "t('GET', 'actor', {\"id\": \"one\"})\n",
    "# \"id\" should be integer"
   ]
  },
  {
   "cell_type": "code",
   "execution_count": null,
   "metadata": {},
   "outputs": [],
   "source": [
    "t('GET', 'movie', {\"id\": \"one\"})\n",
    "# \"id\" should be integer"
   ]
  },
  {
   "cell_type": "code",
   "execution_count": null,
   "metadata": {},
   "outputs": [],
   "source": [
    "t('GET', 'actor', {})\n",
    "# No \"id\" specified"
   ]
  },
  {
   "cell_type": "code",
   "execution_count": null,
   "metadata": {},
   "outputs": [],
   "source": [
    "t('GET', 'movie', {})\n",
    "# No \"id\" specified"
   ]
  },
  {
   "cell_type": "markdown",
   "metadata": {},
   "source": [
    "PUT"
   ]
  },
  {
   "cell_type": "code",
   "execution_count": null,
   "metadata": {},
   "outputs": [],
   "source": [
    "t('PUT', 'actor', {\"id\": \"4\", \"date_of_birth\": \"02.20.1970\"})\n",
    "# Wrong date format (20th month specified)"
   ]
  },
  {
   "cell_type": "code",
   "execution_count": null,
   "metadata": {},
   "outputs": [],
   "source": [
    "t('PUT', 'actor', {\"id\": \"4\", \"height\": \"180\"})\n",
    "# Wrong input field (\"height\")"
   ]
  },
  {
   "cell_type": "code",
   "execution_count": null,
   "metadata": {},
   "outputs": [],
   "source": [
    "t('PUT', 'movie', {\"id\": 1, \"length\": \"120\"})\n",
    "# Wrong input field (\"length\")"
   ]
  },
  {
   "cell_type": "code",
   "execution_count": null,
   "metadata": {},
   "outputs": [],
   "source": [
    "t('PUT', 'actor', {\"id\": 180, \"name\": \"Megan Fox Fox\"})\n",
    "# Such \"id\" doesn't exist"
   ]
  },
  {
   "cell_type": "code",
   "execution_count": null,
   "metadata": {},
   "outputs": [],
   "source": [
    "t('PUT', 'actor', {\"id\": \"one\", \"name\": \"Megan Fox Fox\"})\n",
    "# Such \"id\" doesn't exist"
   ]
  },
  {
   "cell_type": "code",
   "execution_count": null,
   "metadata": {},
   "outputs": [],
   "source": [
    "t('PUT', 'actor', {\"name\": \"Megan Fox Fox\"})\n",
    "# No \"id\" specified"
   ]
  },
  {
   "cell_type": "markdown",
   "metadata": {},
   "source": [
    "PUT relations "
   ]
  },
  {
   "cell_type": "code",
   "execution_count": null,
   "metadata": {},
   "outputs": [],
   "source": [
    "t('PUT', 'actor-relations', {\"id\": 180, \"relation_id\": 1})\n",
    "t('PUT', 'actor-relations', {\"id\": 1, \"relation_id\": 180})\n",
    "# Such \"id\" doesn't exist"
   ]
  },
  {
   "cell_type": "code",
   "execution_count": null,
   "metadata": {},
   "outputs": [],
   "source": [
    "t('PUT', 'movie-relations', {\"id\": 180, \"relation_id\": 1})\n",
    "t('PUT', 'movie-relations', {\"id\": 1, \"relation_id\": 180})\n",
    "# Such \"id\" doesn't exist"
   ]
  },
  {
   "cell_type": "code",
   "execution_count": null,
   "metadata": {},
   "outputs": [],
   "source": [
    "t('PUT', 'actor-relations', {\"id\": \"one\", \"relation_id\": 1})\n",
    "t('PUT', 'actor-relations', {\"id\": 1, \"relation_id\": \"one\"})\n",
    "# \"id\" should be integer"
   ]
  },
  {
   "cell_type": "code",
   "execution_count": null,
   "metadata": {},
   "outputs": [],
   "source": [
    "t('PUT', 'movie-relations', {\"id\": \"one\", \"relation_id\": 1})\n",
    "t('PUT', 'movie-relations', {\"id\": 1, \"relation_id\": \"one\"})\n",
    "# \"id\" should be integer"
   ]
  },
  {
   "cell_type": "code",
   "execution_count": null,
   "metadata": {},
   "outputs": [],
   "source": [
    "t('PUT', 'actor-relations', {\"id\": 1})\n",
    "t('PUT', 'actor-relations', {\"relation_id\": 1} )\n",
    "# No \"id\" specified"
   ]
  },
  {
   "cell_type": "code",
   "execution_count": null,
   "metadata": {},
   "outputs": [],
   "source": [
    "t('PUT', 'movie-relations', {\"id\": 1})\n",
    "t('PUT', 'movie-relations', {\"relation_id\": 1} )\n",
    "# No \"id\" specified"
   ]
  },
  {
   "cell_type": "markdown",
   "metadata": {},
   "source": [
    "DELETE"
   ]
  },
  {
   "cell_type": "code",
   "execution_count": null,
   "metadata": {},
   "outputs": [],
   "source": [
    "t('DELETE', 'actor-relations', {\"id\": 180})\n",
    "t('DELETE', 'movie-relations', {\"id\": 180} )\n",
    "# Such \"id\" doesn't exist"
   ]
  },
  {
   "cell_type": "code",
   "execution_count": null,
   "metadata": {},
   "outputs": [],
   "source": [
    "t('DELETE', 'actor-relations', {\"id\": \"one\"})\n",
    "t('DELETE', 'movie-relations', {\"id\": \"one\"} )\n",
    "# \"id\" should be integer"
   ]
  },
  {
   "cell_type": "code",
   "execution_count": null,
   "metadata": {},
   "outputs": [],
   "source": [
    "t('DELETE', 'actor-relations', {})\n",
    "t('DELETE', 'movie-relations', {} )\n",
    "# No \"id\" specified"
   ]
  },
  {
   "cell_type": "code",
   "execution_count": null,
   "metadata": {},
   "outputs": [],
   "source": []
  }
 ],
 "metadata": {
  "kernelspec": {
   "display_name": "Python 3",
   "language": "python",
   "name": "python3"
  },
  "language_info": {
   "codemirror_mode": {
    "name": "ipython",
    "version": 3
   },
   "file_extension": ".py",
   "mimetype": "text/x-python",
   "name": "python",
   "nbconvert_exporter": "python",
   "pygments_lexer": "ipython3",
   "version": "3.7.4"
  }
 },
 "nbformat": 4,
 "nbformat_minor": 5
}
